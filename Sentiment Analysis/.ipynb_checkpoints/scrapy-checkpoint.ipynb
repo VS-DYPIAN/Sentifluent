{
 "cells": [
  {
   "cell_type": "code",
   "execution_count": 30,
   "metadata": {},
   "outputs": [],
   "source": [
    "import bs4 as bs\n",
    "import lxml\n",
    "from urllib.request import Request, urlopen\n",
    "import time\n",
    "from selenium import webdriver\n",
    "import pandas as pd\n",
    "from selenium.webdriver.common.action_chains import ActionChains as ac\n",
    "from selenium.webdriver.common.keys import Keys\n",
    "\n",
    "url=\"https://www.wattpad.com/361651023-crown-of-glass\"\n",
    "req = Request(url, headers={'User-Agent': 'Mozilla/5.0'})\n",
    "sauce = urlopen(req).read()\n",
    "soup = bs.BeautifulSoup(sauce,'lxml')\n",
    "links = []\n",
    "\n",
    "for item in soup.find_all('a'):\n",
    "    item = item.get('href')\n",
    "    item = str(item)\n",
    "    item = \"https://www.wattpad.com\" + item\n",
    "    links.append(item)\n",
    "    \n",
    "links = links[41:165]\n",
    "driver = webdriver.Chrome(r\"C:\\Users\\ACER\\Downloads\\chromedriver_win32\\chromedriver.exe\")"
   ]
  },
  {
   "cell_type": "code",
   "execution_count": 31,
   "metadata": {},
   "outputs": [
    {
     "data": {
      "text/plain": [
       "['https://www.wattpad.com/story/96957534-crown-of-glass-%E2%9C%94',\n",
       " 'https://www.wattpad.com/361651023-crown-of-glass',\n",
       " 'https://www.wattpad.com/429235837-crown-of-glass-%E2%9C%94-aesthetics',\n",
       " 'https://www.wattpad.com/429695996-crown-of-glass-%E2%9C%94-act-0-orphic',\n",
       " 'https://www.wattpad.com/428790738-crown-of-glass-%E2%9C%94-act-i-trouvaille',\n",
       " 'https://www.wattpad.com/430038700-crown-of-glass-%E2%9C%94-0-prologue',\n",
       " 'https://www.wattpad.com/430724873-crown-of-glass-%E2%9C%94-1-act-i-scene-i',\n",
       " 'https://www.wattpad.com/431317654-crown-of-glass-%E2%9C%94-2-act-i-scene-ii',\n",
       " 'https://www.wattpad.com/432244100-crown-of-glass-%E2%9C%94-3-act-i-scene-iii',\n",
       " 'https://www.wattpad.com/433101258-crown-of-glass-%E2%9C%94-4-act-i-scene-iv',\n",
       " 'https://www.wattpad.com/436691478-crown-of-glass-%E2%9C%94-5-act-i-scene-v',\n",
       " 'https://www.wattpad.com/440141372-crown-of-glass-%E2%9C%94-6-act-i-scene-vi',\n",
       " 'https://www.wattpad.com/443393698-crown-of-glass-%E2%9C%94-7-act-i-scene-vii',\n",
       " 'https://www.wattpad.com/445538907-crown-of-glass-%E2%9C%94-8-act-i-scene-viii',\n",
       " 'https://www.wattpad.com/447876455-crown-of-glass-%E2%9C%94-9-act-i-scene-ix',\n",
       " 'https://www.wattpad.com/451284318-crown-of-glass-%E2%9C%94-10-act-i-scene-x',\n",
       " 'https://www.wattpad.com/453214284-crown-of-glass-%E2%9C%94-11-act-i-scene-xi',\n",
       " 'https://www.wattpad.com/456088268-crown-of-glass-%E2%9C%94-12-act-i-scene-xii',\n",
       " 'https://www.wattpad.com/457501062-crown-of-glass-%E2%9C%94-13-act-i-scene-xiii',\n",
       " 'https://www.wattpad.com/461284091-crown-of-glass-%E2%9C%94-14-act-i-scene-xiv',\n",
       " 'https://www.wattpad.com/465413942-crown-of-glass-%E2%9C%94-15-act-i-scene-xv',\n",
       " 'https://www.wattpad.com/459187872-crown-of-glass-%E2%9C%94-16-act-i-scene-xvi',\n",
       " 'https://www.wattpad.com/477336034-crown-of-glass-%E2%9C%94-17-act-i-scene-xvii',\n",
       " 'https://www.wattpad.com/478239098-crown-of-glass-%E2%9C%94-18-act-i-scene-xviii',\n",
       " 'https://www.wattpad.com/480360762-crown-of-glass-%E2%9C%94-19-act-i-scene-xix',\n",
       " 'https://www.wattpad.com/481983420-crown-of-glass-%E2%9C%94-20-act-i-scene-xx',\n",
       " 'https://www.wattpad.com/483522814-crown-of-glass-%E2%9C%94-21-act-i-scene-xxi',\n",
       " 'https://www.wattpad.com/485360507-crown-of-glass-%E2%9C%94-22-act-i-scene-xxii',\n",
       " 'https://www.wattpad.com/487286620-crown-of-glass-%E2%9C%94-23-act-i-scene-xxiii',\n",
       " 'https://www.wattpad.com/489833918-crown-of-glass-%E2%9C%94-24-act-i-scene-xxiv',\n",
       " 'https://www.wattpad.com/492006487-crown-of-glass-%E2%9C%94-25-act-i-scene-xxv',\n",
       " 'https://www.wattpad.com/494946072-crown-of-glass-%E2%9C%94-26-act-i-scene-xxvi',\n",
       " 'https://www.wattpad.com/496491476-crown-of-glass-%E2%9C%94-27-act-i-scene-xxvii',\n",
       " 'https://www.wattpad.com/498971724-crown-of-glass-%E2%9C%94-28-act-i-scene-xxviii',\n",
       " 'https://www.wattpad.com/481328715-crown-of-glass-%E2%9C%94-act-ii-quatervois',\n",
       " 'https://www.wattpad.com/503177009-crown-of-glass-%E2%9C%94-29-act-ii-scene-i',\n",
       " 'https://www.wattpad.com/504786086-crown-of-glass-%E2%9C%94-30-act-ii-scene-ii',\n",
       " 'https://www.wattpad.com/507469245-crown-of-glass-%E2%9C%94-31-act-ii-scene-iii',\n",
       " 'https://www.wattpad.com/510995526-crown-of-glass-%E2%9C%94-32-act-ii-scene-iv',\n",
       " 'https://www.wattpad.com/514816632-crown-of-glass-%E2%9C%94-33-act-ii-scene-v',\n",
       " 'https://www.wattpad.com/517496603-crown-of-glass-%E2%9C%94-34-act-ii-scene-vi',\n",
       " 'https://www.wattpad.com/520964399-crown-of-glass-%E2%9C%94-35-act-ii-scene-vii',\n",
       " 'https://www.wattpad.com/520970425-crown-of-glass-%E2%9C%94-36-act-ii-scene-viii',\n",
       " 'https://www.wattpad.com/521027756-crown-of-glass-%E2%9C%94-37-act-ii-scene-ix',\n",
       " 'https://www.wattpad.com/530460340-crown-of-glass-%E2%9C%94-38-act-ii-scene-x',\n",
       " 'https://www.wattpad.com/520977537-crown-of-glass-%E2%9C%94-39-act-ii-scene-xi',\n",
       " 'https://www.wattpad.com/536596903-crown-of-glass-%E2%9C%94-40-act-ii-scene-xii',\n",
       " 'https://www.wattpad.com/539473929-crown-of-glass-%E2%9C%94-41-act-ii-scene-xiii',\n",
       " 'https://www.wattpad.com/542818875-crown-of-glass-%E2%9C%94-42-act-ii-scene-xiv',\n",
       " 'https://www.wattpad.com/545263029-crown-of-glass-%E2%9C%94-43-act-ii-scene-xv',\n",
       " 'https://www.wattpad.com/548956976-crown-of-glass-%E2%9C%94-44-act-ii-scene-xvi',\n",
       " 'https://www.wattpad.com/551972516-crown-of-glass-%E2%9C%94-45-act-ii-scene-xvii',\n",
       " 'https://www.wattpad.com/555303908-crown-of-glass-%E2%9C%94-46-act-ii-scene-xviii',\n",
       " 'https://www.wattpad.com/558632765-crown-of-glass-%E2%9C%94-47-act-ii-scene-xix',\n",
       " 'https://www.wattpad.com/561264517-crown-of-glass-%E2%9C%94-48-act-ii-scene-xx',\n",
       " 'https://www.wattpad.com/563914416-crown-of-glass-%E2%9C%94-49-act-ii-scene-xxi',\n",
       " 'https://www.wattpad.com/566139057-crown-of-glass-%E2%9C%94-50-act-ii-scene-xxii',\n",
       " 'https://www.wattpad.com/567707524-crown-of-glass-%E2%9C%94-51-act-ii-scene-xxiii',\n",
       " 'https://www.wattpad.com/569984286-crown-of-glass-%E2%9C%94-52-act-ii-scene-xxiv',\n",
       " 'https://www.wattpad.com/478841421-crown-of-glass-%E2%9C%94-act-iii-saudade',\n",
       " 'https://www.wattpad.com/573108939-crown-of-glass-%E2%9C%94-53-act-iii-scene-i',\n",
       " 'https://www.wattpad.com/576877428-crown-of-glass-%E2%9C%94-54-act-iii-scene-ii',\n",
       " 'https://www.wattpad.com/580041652-crown-of-glass-%E2%9C%94-55-act-iii-scene-iii',\n",
       " 'https://www.wattpad.com/581951375-crown-of-glass-%E2%9C%94-56-act-iii-scene-iv',\n",
       " 'https://www.wattpad.com/583476095-crown-of-glass-%E2%9C%94-57-act-iii-scene-v',\n",
       " 'https://www.wattpad.com/583475770-crown-of-glass-%E2%9C%94-58-act-iii-scene-vi',\n",
       " 'https://www.wattpad.com/587143572-crown-of-glass-%E2%9C%94-59-act-iii-scene-vii',\n",
       " 'https://www.wattpad.com/588958308-crown-of-glass-%E2%9C%94-60-act-iii-scene-viii',\n",
       " 'https://www.wattpad.com/590523799-crown-of-glass-%E2%9C%94-61-act-iii-scene-ix',\n",
       " 'https://www.wattpad.com/431584050-crown-of-glass-%E2%9C%94-act-iv-virago',\n",
       " 'https://www.wattpad.com/593738380-crown-of-glass-%E2%9C%94-62-act-iv-scene-i',\n",
       " 'https://www.wattpad.com/595848290-crown-of-glass-%E2%9C%94-63-act-iv-scene-ii',\n",
       " 'https://www.wattpad.com/597753514-crown-of-glass-%E2%9C%94-64-act-iv-scene-iii',\n",
       " 'https://www.wattpad.com/600631376-crown-of-glass-%E2%9C%94-65-act-iv-scene-iv',\n",
       " 'https://www.wattpad.com/603128076-crown-of-glass-%E2%9C%94-66-act-iv-scene-v',\n",
       " 'https://www.wattpad.com/605551051-crown-of-glass-%E2%9C%94-67-act-iv-scene-vi',\n",
       " 'https://www.wattpad.com/606961212-crown-of-glass-%E2%9C%94-68-act-iv-scene-vii',\n",
       " 'https://www.wattpad.com/609406925-crown-of-glass-%E2%9C%94-69-act-iv-scene-viii',\n",
       " 'https://www.wattpad.com/613748821-crown-of-glass-%E2%9C%94-70-act-iv-scene-ix',\n",
       " 'https://www.wattpad.com/617410149-crown-of-glass-%E2%9C%94-71-act-iv-scene-x',\n",
       " 'https://www.wattpad.com/620053073-crown-of-glass-%E2%9C%94-72-act-iv-scene-xi',\n",
       " 'https://www.wattpad.com/622283651-crown-of-glass-%E2%9C%94-73-act-iv-scene-xii',\n",
       " 'https://www.wattpad.com/571866908-crown-of-glass-%E2%9C%94-act-v-gibel',\n",
       " 'https://www.wattpad.com/626163196-crown-of-glass-%E2%9C%94-74-act-v-scene-i',\n",
       " 'https://www.wattpad.com/628017516-crown-of-glass-%E2%9C%94-75-act-v-scene-ii',\n",
       " 'https://www.wattpad.com/629674442-crown-of-glass-%E2%9C%94-76-act-v-scene-iii',\n",
       " 'https://www.wattpad.com/631503847-crown-of-glass-%E2%9C%94-77-act-v-scene-iv',\n",
       " 'https://www.wattpad.com/635649168-crown-of-glass-%E2%9C%94-78-act-v-scene-v',\n",
       " 'https://www.wattpad.com/637263329-crown-of-glass-%E2%9C%94-79-act-v-scene-vi',\n",
       " 'https://www.wattpad.com/640835450-crown-of-glass-%E2%9C%94-80-act-v-scene-vii',\n",
       " 'https://www.wattpad.com/642720485-crown-of-glass-%E2%9C%94-81-act-v-scene-viii',\n",
       " 'https://www.wattpad.com/645699808-crown-of-glass-%E2%9C%94-82-act-v-scene-ix',\n",
       " 'https://www.wattpad.com/647845944-crown-of-glass-%E2%9C%94-83-act-v-scene-x',\n",
       " 'https://www.wattpad.com/651765042-crown-of-glass-%E2%9C%94-act-vi-peripeteia',\n",
       " 'https://www.wattpad.com/655149195-crown-of-glass-%E2%9C%94-84-act-vi-scene-i',\n",
       " 'https://www.wattpad.com/659348116-crown-of-glass-%E2%9C%94-85-act-vi-scene-ii',\n",
       " 'https://www.wattpad.com/666026143-crown-of-glass-%E2%9C%94-86-act-vi-scene-iii',\n",
       " 'https://www.wattpad.com/669044605-crown-of-glass-%E2%9C%94-87-act-vi-scene-iv',\n",
       " 'https://www.wattpad.com/671654114-crown-of-glass-%E2%9C%94-88-act-vi-scene-v',\n",
       " 'https://www.wattpad.com/677741044-crown-of-glass-%E2%9C%94-89-act-vi-scene-vi',\n",
       " 'https://www.wattpad.com/580592967-crown-of-glass-%E2%9C%94-act-vii-s%C3%BAton',\n",
       " 'https://www.wattpad.com/683671795-crown-of-glass-%E2%9C%94-90-act-vii-scene-i',\n",
       " 'https://www.wattpad.com/687571742-crown-of-glass-%E2%9C%94-91-act-vii-scene-ii',\n",
       " 'https://www.wattpad.com/690702283-crown-of-glass-%E2%9C%94-92-act-vii-scene-iii',\n",
       " 'https://www.wattpad.com/694323221-crown-of-glass-%E2%9C%94-93-act-vii-scene-iv',\n",
       " 'https://www.wattpad.com/699424442-crown-of-glass-%E2%9C%94-94-act-vii-scene-v',\n",
       " 'https://www.wattpad.com/702880242-crown-of-glass-%E2%9C%94-95-act-vii-scene-vi',\n",
       " 'https://www.wattpad.com/705883015-crown-of-glass-%E2%9C%94-96-act-vii-scene-vii',\n",
       " 'https://www.wattpad.com/710892397-crown-of-glass-%E2%9C%94-97-act-vii-scene-viii',\n",
       " 'https://www.wattpad.com/723573600-crown-of-glass-%E2%9C%94-98-act-vii-scene-ix',\n",
       " 'https://www.wattpad.com/729454412-crown-of-glass-%E2%9C%94-99-act-vii-scene-x',\n",
       " 'https://www.wattpad.com/733940090-crown-of-glass-%E2%9C%94-100-act-vii-scene-xi',\n",
       " 'https://www.wattpad.com/741241497-crown-of-glass-%E2%9C%94-101-act-vii-scene-xii',\n",
       " 'https://www.wattpad.com/750341095-crown-of-glass-%E2%9C%94-102-act-vii-scene-xiii',\n",
       " 'https://www.wattpad.com/757465138-crown-of-glass-%E2%9C%94-103-act-vii-scene-xiv',\n",
       " 'https://www.wattpad.com/760991010-crown-of-glass-%E2%9C%94-104-act-vii-scene-xv',\n",
       " 'https://www.wattpad.com/764415895-crown-of-glass-%E2%9C%94-epilogue',\n",
       " 'https://www.wattpad.com/765420161-crown-of-glass-%E2%9C%94-family-index',\n",
       " 'https://www.wattpad.com/552880407-crown-of-glass-%E2%9C%94-cast-list',\n",
       " 'https://www.wattpad.com/513142692-crown-of-glass-%E2%9C%94-fan-art-aesthetics',\n",
       " 'https://www.wattpad.com/428891059-crown-of-glass-%E2%9C%94-fun-facts',\n",
       " 'https://www.wattpad.com/547033526-crown-of-glass-%E2%9C%94-time-for-a-quiz',\n",
       " 'https://www.wattpad.com/770396345-crown-of-glass-%E2%9C%94-one-last-request',\n",
       " 'https://www.wattpad.com/771303174-crown-of-glass-%E2%9C%94-final-note']"
      ]
     },
     "execution_count": 31,
     "metadata": {},
     "output_type": "execute_result"
    }
   ],
   "source": [
    "links"
   ]
  },
  {
   "cell_type": "code",
   "execution_count": 32,
   "metadata": {},
   "outputs": [],
   "source": [
    "from selenium.common.exceptions import ElementNotInteractableException"
   ]
  },
  {
   "cell_type": "code",
   "execution_count": 33,
   "metadata": {},
   "outputs": [
    {
     "data": {
      "text/plain": [
       "'https://www.wattpad.com/569984286-crown-of-glass-%E2%9C%94-52-act-ii-scene-xxiv'"
      ]
     },
     "execution_count": 33,
     "metadata": {},
     "output_type": "execute_result"
    }
   ],
   "source": [
    "links[58]"
   ]
  },
  {
   "cell_type": "code",
   "execution_count": 38,
   "metadata": {},
   "outputs": [],
   "source": [
    "def scrapey(i):\n",
    "    driver.get(links[i])\n",
    "    time.sleep(3)\n",
    "    try:\n",
    "        for i in range(500):\n",
    "            time.sleep(1)\n",
    "            find = driver.find_element_by_class_name('on-showmore')\n",
    "            find.send_keys(Keys.ARROW_DOWN)\n",
    "            try:\n",
    "                driver.find_element_by_class_name('on-showmore').click()\n",
    "            except:\n",
    "                pass\n",
    "    finally:\n",
    "        print(\"All comments for this chapter have been collected.\")\n",
    "        l = driver.find_elements_by_class_name('comment')\n",
    "        c = driver.find_elements_by_xpath(\"//a[@href = '#']\")\n",
    "        c = c[3].text\n",
    "        print(\"Comments found\",len(l))\n",
    "        print(\"Actual comments\", c)\n",
    "        title = driver.find_elements_by_class_name('panel')\n",
    "        title = title[0].text.split('\\n')[0]\n",
    "        print(title)\n",
    "        with open('count.csv', mode='a') as f:\n",
    "            f.write(\"{},{},{}\".format(title, c, len(l)))\n",
    "            f.write(\"\\n\")\n",
    "        f.closed\n",
    "\n",
    "\n",
    "        # comments = pd.DataFrame(columns =['Chapter Name', 'Author', 'Date', 'Text', 'Replies']) \n",
    "        with open('52.csv', mode='a', encoding='utf-8') as f:\n",
    "            for i in l:\n",
    "                mycomment = i.text.split('\\n')\n",
    "                mycomment.insert(0, title)\n",
    "                comlen = len(mycomment)\n",
    "                linesoftext = comlen - 5\n",
    "                if comlen > 5:\n",
    "                    mycomment[3:comlen-1] = [' '.join(mycomment[3:comlen-1])]\n",
    "                f.write(\"{},{},{},{},{}\".format(mycomment[0], mycomment[1], mycomment[2], mycomment[3], mycomment[4]))\n",
    "                f.write(\"\\n\")\n",
    "        #         mycomment = pd.Series(mycomment, index=comments.columns)\n",
    "        #         comments = comments.append(mycomment, ignore_index=True)\n",
    "        f.closed"
   ]
  },
  {
   "cell_type": "code",
   "execution_count": 39,
   "metadata": {},
   "outputs": [
    {
     "ename": "WebDriverException",
     "evalue": "Message: chrome not reachable\n  (Session info: chrome=80.0.3987.149)\n",
     "output_type": "error",
     "traceback": [
      "\u001b[1;31m---------------------------------------------------------------------------\u001b[0m",
      "\u001b[1;31mWebDriverException\u001b[0m                        Traceback (most recent call last)",
      "\u001b[1;32m<ipython-input-39-285568f5b1f9>\u001b[0m in \u001b[0;36m<module>\u001b[1;34m\u001b[0m\n\u001b[0;32m      1\u001b[0m \u001b[1;32mtry\u001b[0m\u001b[1;33m:\u001b[0m\u001b[1;33m\u001b[0m\u001b[1;33m\u001b[0m\u001b[0m\n\u001b[1;32m----> 2\u001b[1;33m     \u001b[0mscrapey\u001b[0m\u001b[1;33m(\u001b[0m\u001b[1;36m58\u001b[0m\u001b[1;33m)\u001b[0m\u001b[1;33m\u001b[0m\u001b[1;33m\u001b[0m\u001b[0m\n\u001b[0m\u001b[0;32m      3\u001b[0m \u001b[1;32mexcept\u001b[0m \u001b[0mElementNotInteractableException\u001b[0m\u001b[1;33m:\u001b[0m\u001b[1;33m\u001b[0m\u001b[1;33m\u001b[0m\u001b[0m\n\u001b[0;32m      4\u001b[0m     \u001b[0mprint\u001b[0m\u001b[1;33m(\u001b[0m\u001b[1;34m\"all done\"\u001b[0m\u001b[1;33m)\u001b[0m\u001b[1;33m\u001b[0m\u001b[1;33m\u001b[0m\u001b[0m\n",
      "\u001b[1;32m<ipython-input-38-255b59f7bc52>\u001b[0m in \u001b[0;36mscrapey\u001b[1;34m(i)\u001b[0m\n\u001b[0;32m      1\u001b[0m \u001b[1;32mdef\u001b[0m \u001b[0mscrapey\u001b[0m\u001b[1;33m(\u001b[0m\u001b[0mi\u001b[0m\u001b[1;33m)\u001b[0m\u001b[1;33m:\u001b[0m\u001b[1;33m\u001b[0m\u001b[1;33m\u001b[0m\u001b[0m\n\u001b[1;32m----> 2\u001b[1;33m     \u001b[0mdriver\u001b[0m\u001b[1;33m.\u001b[0m\u001b[0mget\u001b[0m\u001b[1;33m(\u001b[0m\u001b[0mlinks\u001b[0m\u001b[1;33m[\u001b[0m\u001b[0mi\u001b[0m\u001b[1;33m]\u001b[0m\u001b[1;33m)\u001b[0m\u001b[1;33m\u001b[0m\u001b[1;33m\u001b[0m\u001b[0m\n\u001b[0m\u001b[0;32m      3\u001b[0m     \u001b[0mtime\u001b[0m\u001b[1;33m.\u001b[0m\u001b[0msleep\u001b[0m\u001b[1;33m(\u001b[0m\u001b[1;36m3\u001b[0m\u001b[1;33m)\u001b[0m\u001b[1;33m\u001b[0m\u001b[1;33m\u001b[0m\u001b[0m\n\u001b[0;32m      4\u001b[0m     \u001b[1;32mtry\u001b[0m\u001b[1;33m:\u001b[0m\u001b[1;33m\u001b[0m\u001b[1;33m\u001b[0m\u001b[0m\n\u001b[0;32m      5\u001b[0m         \u001b[1;32mfor\u001b[0m \u001b[0mi\u001b[0m \u001b[1;32min\u001b[0m \u001b[0mrange\u001b[0m\u001b[1;33m(\u001b[0m\u001b[1;36m500\u001b[0m\u001b[1;33m)\u001b[0m\u001b[1;33m:\u001b[0m\u001b[1;33m\u001b[0m\u001b[1;33m\u001b[0m\u001b[0m\n",
      "\u001b[1;32m~\\Anaconda3\\lib\\site-packages\\selenium\\webdriver\\remote\\webdriver.py\u001b[0m in \u001b[0;36mget\u001b[1;34m(self, url)\u001b[0m\n\u001b[0;32m    331\u001b[0m         \u001b[0mLoads\u001b[0m \u001b[0ma\u001b[0m \u001b[0mweb\u001b[0m \u001b[0mpage\u001b[0m \u001b[1;32min\u001b[0m \u001b[0mthe\u001b[0m \u001b[0mcurrent\u001b[0m \u001b[0mbrowser\u001b[0m \u001b[0msession\u001b[0m\u001b[1;33m.\u001b[0m\u001b[1;33m\u001b[0m\u001b[1;33m\u001b[0m\u001b[0m\n\u001b[0;32m    332\u001b[0m         \"\"\"\n\u001b[1;32m--> 333\u001b[1;33m         \u001b[0mself\u001b[0m\u001b[1;33m.\u001b[0m\u001b[0mexecute\u001b[0m\u001b[1;33m(\u001b[0m\u001b[0mCommand\u001b[0m\u001b[1;33m.\u001b[0m\u001b[0mGET\u001b[0m\u001b[1;33m,\u001b[0m \u001b[1;33m{\u001b[0m\u001b[1;34m'url'\u001b[0m\u001b[1;33m:\u001b[0m \u001b[0murl\u001b[0m\u001b[1;33m}\u001b[0m\u001b[1;33m)\u001b[0m\u001b[1;33m\u001b[0m\u001b[1;33m\u001b[0m\u001b[0m\n\u001b[0m\u001b[0;32m    334\u001b[0m \u001b[1;33m\u001b[0m\u001b[0m\n\u001b[0;32m    335\u001b[0m     \u001b[1;33m@\u001b[0m\u001b[0mproperty\u001b[0m\u001b[1;33m\u001b[0m\u001b[1;33m\u001b[0m\u001b[0m\n",
      "\u001b[1;32m~\\Anaconda3\\lib\\site-packages\\selenium\\webdriver\\remote\\webdriver.py\u001b[0m in \u001b[0;36mexecute\u001b[1;34m(self, driver_command, params)\u001b[0m\n\u001b[0;32m    319\u001b[0m         \u001b[0mresponse\u001b[0m \u001b[1;33m=\u001b[0m \u001b[0mself\u001b[0m\u001b[1;33m.\u001b[0m\u001b[0mcommand_executor\u001b[0m\u001b[1;33m.\u001b[0m\u001b[0mexecute\u001b[0m\u001b[1;33m(\u001b[0m\u001b[0mdriver_command\u001b[0m\u001b[1;33m,\u001b[0m \u001b[0mparams\u001b[0m\u001b[1;33m)\u001b[0m\u001b[1;33m\u001b[0m\u001b[1;33m\u001b[0m\u001b[0m\n\u001b[0;32m    320\u001b[0m         \u001b[1;32mif\u001b[0m \u001b[0mresponse\u001b[0m\u001b[1;33m:\u001b[0m\u001b[1;33m\u001b[0m\u001b[1;33m\u001b[0m\u001b[0m\n\u001b[1;32m--> 321\u001b[1;33m             \u001b[0mself\u001b[0m\u001b[1;33m.\u001b[0m\u001b[0merror_handler\u001b[0m\u001b[1;33m.\u001b[0m\u001b[0mcheck_response\u001b[0m\u001b[1;33m(\u001b[0m\u001b[0mresponse\u001b[0m\u001b[1;33m)\u001b[0m\u001b[1;33m\u001b[0m\u001b[1;33m\u001b[0m\u001b[0m\n\u001b[0m\u001b[0;32m    322\u001b[0m             response['value'] = self._unwrap_value(\n\u001b[0;32m    323\u001b[0m                 response.get('value', None))\n",
      "\u001b[1;32m~\\Anaconda3\\lib\\site-packages\\selenium\\webdriver\\remote\\errorhandler.py\u001b[0m in \u001b[0;36mcheck_response\u001b[1;34m(self, response)\u001b[0m\n\u001b[0;32m    240\u001b[0m                 \u001b[0malert_text\u001b[0m \u001b[1;33m=\u001b[0m \u001b[0mvalue\u001b[0m\u001b[1;33m[\u001b[0m\u001b[1;34m'alert'\u001b[0m\u001b[1;33m]\u001b[0m\u001b[1;33m.\u001b[0m\u001b[0mget\u001b[0m\u001b[1;33m(\u001b[0m\u001b[1;34m'text'\u001b[0m\u001b[1;33m)\u001b[0m\u001b[1;33m\u001b[0m\u001b[1;33m\u001b[0m\u001b[0m\n\u001b[0;32m    241\u001b[0m             \u001b[1;32mraise\u001b[0m \u001b[0mexception_class\u001b[0m\u001b[1;33m(\u001b[0m\u001b[0mmessage\u001b[0m\u001b[1;33m,\u001b[0m \u001b[0mscreen\u001b[0m\u001b[1;33m,\u001b[0m \u001b[0mstacktrace\u001b[0m\u001b[1;33m,\u001b[0m \u001b[0malert_text\u001b[0m\u001b[1;33m)\u001b[0m\u001b[1;33m\u001b[0m\u001b[1;33m\u001b[0m\u001b[0m\n\u001b[1;32m--> 242\u001b[1;33m         \u001b[1;32mraise\u001b[0m \u001b[0mexception_class\u001b[0m\u001b[1;33m(\u001b[0m\u001b[0mmessage\u001b[0m\u001b[1;33m,\u001b[0m \u001b[0mscreen\u001b[0m\u001b[1;33m,\u001b[0m \u001b[0mstacktrace\u001b[0m\u001b[1;33m)\u001b[0m\u001b[1;33m\u001b[0m\u001b[1;33m\u001b[0m\u001b[0m\n\u001b[0m\u001b[0;32m    243\u001b[0m \u001b[1;33m\u001b[0m\u001b[0m\n\u001b[0;32m    244\u001b[0m     \u001b[1;32mdef\u001b[0m \u001b[0m_value_or_default\u001b[0m\u001b[1;33m(\u001b[0m\u001b[0mself\u001b[0m\u001b[1;33m,\u001b[0m \u001b[0mobj\u001b[0m\u001b[1;33m,\u001b[0m \u001b[0mkey\u001b[0m\u001b[1;33m,\u001b[0m \u001b[0mdefault\u001b[0m\u001b[1;33m)\u001b[0m\u001b[1;33m:\u001b[0m\u001b[1;33m\u001b[0m\u001b[1;33m\u001b[0m\u001b[0m\n",
      "\u001b[1;31mWebDriverException\u001b[0m: Message: chrome not reachable\n  (Session info: chrome=80.0.3987.149)\n"
     ]
    }
   ],
   "source": [
    "try:\n",
    "    scrapey(58)\n",
    "except ElementNotInteractableException:\n",
    "    print(\"all done\")"
   ]
  },
  {
   "cell_type": "code",
   "execution_count": null,
   "metadata": {},
   "outputs": [],
   "source": [
    "links[20]"
   ]
  }
 ],
 "metadata": {
  "kernelspec": {
   "display_name": "Python 3",
   "language": "python",
   "name": "python3"
  },
  "language_info": {
   "codemirror_mode": {
    "name": "ipython",
    "version": 3
   },
   "file_extension": ".py",
   "mimetype": "text/x-python",
   "name": "python",
   "nbconvert_exporter": "python",
   "pygments_lexer": "ipython3",
   "version": "3.7.4"
  }
 },
 "nbformat": 4,
 "nbformat_minor": 2
}
